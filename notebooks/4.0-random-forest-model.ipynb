{
 "cells": [
  {
   "cell_type": "code",
   "execution_count": 1,
   "metadata": {},
   "outputs": [],
   "source": [
    "%load_ext autoreload\n",
    "%autoreload 2"
   ]
  },
  {
   "cell_type": "code",
   "execution_count": 2,
   "metadata": {},
   "outputs": [],
   "source": [
    "import sys, os\n",
    "sys.path.insert(1, os.path.join(sys.path[0], '..'))"
   ]
  },
  {
   "cell_type": "code",
   "execution_count": 24,
   "metadata": {},
   "outputs": [],
   "source": [
    "import pandas as pd\n",
    "import matplotlib.pyplot as plt\n",
    "import seaborn as sns\n",
    "import numpy as np\n",
    "%matplotlib inline\n",
    "\n",
    "# Pipeline\n",
    "from sklearn.pipeline import Pipeline, make_pipeline\n",
    "from sklearn.preprocessing import StandardScaler\n",
    "from sklearn.metrics import make_scorer, f1_score, classification_report, confusion_matrix\n",
    "from sklearn.externals import joblib\n",
    "from sklearn.model_selection import cross_val_score, cross_val_predict, train_test_split\n",
    "\n",
    "# Algorithms\n",
    "from sklearn.ensemble import RandomForestClassifier\n",
    "\n",
    "# Internal\n",
    "from autocat.data.datasets import get_training_data\n",
    "from autocat.data.features import CombinedFeatureAdder, feature_transactions_per_day, PandasDataFrameTransformer\n",
    "from autocat.data.filters import FeatureFilters, no_null_StdUnitsShipped_StdNetAmount\n",
    "from autocat.models import GridSearchModel, Model\n",
    "from autocat.models.evaluation import evaluate, plot_learning_curve"
   ]
  },
  {
   "cell_type": "code",
   "execution_count": 4,
   "metadata": {},
   "outputs": [],
   "source": [
    "TRAINING_DATA = '../data/processed/train_2018-08-24.csv'"
   ]
  },
  {
   "cell_type": "markdown",
   "metadata": {},
   "source": [
    "## Pipeline"
   ]
  },
  {
   "cell_type": "code",
   "execution_count": 5,
   "metadata": {},
   "outputs": [],
   "source": [
    "# Create feaure matrix and label vector\n",
    "X, y = get_training_data(TRAINING_DATA, [\n",
    "    no_null_StdUnitsShipped_StdNetAmount\n",
    "], drop_na=True)"
   ]
  },
  {
   "cell_type": "code",
   "execution_count": 6,
   "metadata": {},
   "outputs": [],
   "source": [
    "# Create a pipeline to transform the modelling data\n",
    "pipeline = Pipeline([\n",
    "    ('feaure_transactions_per_day', CombinedFeatureAdder(feature_transactions_per_day))\n",
    "])"
   ]
  },
  {
   "cell_type": "code",
   "execution_count": 7,
   "metadata": {},
   "outputs": [
    {
     "name": "stdout",
     "output_type": "stream",
     "text": [
      "Training instances: 6304\n"
     ]
    }
   ],
   "source": [
    "print('Training instances:', len(X))"
   ]
  },
  {
   "cell_type": "markdown",
   "metadata": {},
   "source": [
    "## Model"
   ]
  },
  {
   "cell_type": "code",
   "execution_count": 10,
   "metadata": {},
   "outputs": [],
   "source": [
    "# Create the parameter grid to optimize\n",
    "param_grid = [\n",
    "    {\n",
    "#         'rf__criterion': ['gini', 'entropy'],\n",
    "#         'rf__bootstrap': [True, False],\n",
    "        'rf__n_estimators': [50, 100, 200, 500], \n",
    "        'rf__max_features': [2, 5, 7, 10],\n",
    "        'rf__max_depth': [2, 5, 10, 20],\n",
    "        'rf__max_leaf_nodes': [10, 20, 50]\n",
    "    }\n",
    "  ]"
   ]
  },
  {
   "cell_type": "code",
   "execution_count": 12,
   "metadata": {},
   "outputs": [],
   "source": [
    "# Train a model using grid search\n",
    "scorer = make_scorer(f1_score, average='micro')\n",
    "model = GridSearchModel('rf', RandomForestClassifier(), param_grid, pipeline)\n",
    "model.train(X, y, 10, scorer)"
   ]
  },
  {
   "cell_type": "code",
   "execution_count": 13,
   "metadata": {},
   "outputs": [
    {
     "data": {
      "text/plain": [
       "RandomForestClassifier(bootstrap=True, class_weight=None, criterion='gini',\n",
       "            max_depth=20, max_features=7, max_leaf_nodes=50,\n",
       "            min_impurity_decrease=0.0, min_impurity_split=None,\n",
       "            min_samples_leaf=1, min_samples_split=2,\n",
       "            min_weight_fraction_leaf=0.0, n_estimators=50, n_jobs=1,\n",
       "            oob_score=False, random_state=None, verbose=0,\n",
       "            warm_start=False)"
      ]
     },
     "execution_count": 13,
     "metadata": {},
     "output_type": "execute_result"
    }
   ],
   "source": [
    "model.model"
   ]
  },
  {
   "cell_type": "markdown",
   "metadata": {},
   "source": [
    "There is still opportunity to tune the model:\n",
    "* More estimators (between 50 and 100)\n",
    "* More features (Between 7 and 10)\n",
    "* Deeper (more than 20)\n",
    "* More leaf nodes (more than 50)"
   ]
  },
  {
   "cell_type": "markdown",
   "metadata": {},
   "source": [
    "## Evaluation"
   ]
  },
  {
   "cell_type": "code",
   "execution_count": 19,
   "metadata": {},
   "outputs": [],
   "source": [
    "X_transformed = model.pipeline.fit_transform(X)\n",
    "model_predictions = model.model.predict(X_transformed)"
   ]
  },
  {
   "cell_type": "markdown",
   "metadata": {},
   "source": [
    "#### Training Set"
   ]
  },
  {
   "cell_type": "code",
   "execution_count": 28,
   "metadata": {},
   "outputs": [
    {
     "name": "stdout",
     "output_type": "stream",
     "text": [
      "0.7230329949238579\n",
      "                      precision    recall  f1-score   support\n",
      "\n",
      "           Body Care       0.73      0.80      0.76      1050\n",
      "              Frozen       0.00      0.00      0.00       346\n",
      "                Meat       0.84      0.68      0.75       114\n",
      "    Packaged Grocery       0.72      0.94      0.81      3380\n",
      "        Packaged Tea       0.00      0.00      0.00       250\n",
      "Refrigerated Grocery       0.75      0.47      0.58       669\n",
      "            Vitamins       0.72      0.28      0.40       495\n",
      "\n",
      "         avg / total       0.66      0.72      0.67      6304\n",
      "\n"
     ]
    },
    {
     "name": "stderr",
     "output_type": "stream",
     "text": [
      "/anaconda3/envs/py35-ds/lib/python3.5/site-packages/sklearn/metrics/classification.py:1135: UndefinedMetricWarning: Precision and F-score are ill-defined and being set to 0.0 in labels with no predicted samples.\n",
      "  'precision', 'predicted', average, warn_for)\n"
     ]
    }
   ],
   "source": [
    "# Evaluate the model on the training set\n",
    "scorer = lambda y_true, y_pred: f1_score(y, model_predictions, average='micro')\n",
    "rf_results = evaluate(model, pipeline.fit_transform(X), y, scorer)\n",
    "print(rf_results.score)\n",
    "print(classification_report(rf_results.labels, rf_results.predictions))"
   ]
  },
  {
   "cell_type": "markdown",
   "metadata": {},
   "source": [
    "#### Cross Validation"
   ]
  },
  {
   "cell_type": "code",
   "execution_count": 21,
   "metadata": {},
   "outputs": [],
   "source": [
    "CV=10"
   ]
  },
  {
   "cell_type": "code",
   "execution_count": 22,
   "metadata": {},
   "outputs": [
    {
     "name": "stdout",
     "output_type": "stream",
     "text": [
      "0.6946383248730964\n",
      "                      precision    recall  f1-score   support\n",
      "\n",
      "           Body Care       0.70      0.76      0.73      1050\n",
      "              Frozen       0.00      0.00      0.00       346\n",
      "                Meat       0.84      0.59      0.69       114\n",
      "    Packaged Grocery       0.70      0.93      0.80      3380\n",
      "        Packaged Tea       0.50      0.00      0.01       250\n",
      "Refrigerated Grocery       0.66      0.39      0.49       669\n",
      "            Vitamins       0.58      0.24      0.34       495\n",
      "\n",
      "         avg / total       0.64      0.69      0.64      6304\n",
      "\n"
     ]
    },
    {
     "name": "stderr",
     "output_type": "stream",
     "text": [
      "/anaconda3/envs/py35-ds/lib/python3.5/site-packages/sklearn/metrics/classification.py:1135: UndefinedMetricWarning: Precision and F-score are ill-defined and being set to 0.0 in labels with no predicted samples.\n",
      "  'precision', 'predicted', average, warn_for)\n"
     ]
    }
   ],
   "source": [
    "cv_predictions = cross_val_predict(model.get_model_pipeline(), X, y, cv=CV)\n",
    "print(f1_score(y, cv_predictions, average='micro'))\n",
    "print(classification_report(y, cv_predictions))"
   ]
  },
  {
   "cell_type": "markdown",
   "metadata": {},
   "source": [
    "The random forest model performs well for:\n",
    "* Body Care\n",
    "* Meat\n",
    "* Packaged Grocery"
   ]
  },
  {
   "cell_type": "markdown",
   "metadata": {},
   "source": [
    "#### Confusion Matrix"
   ]
  },
  {
   "cell_type": "code",
   "execution_count": 25,
   "metadata": {},
   "outputs": [
    {
     "data": {
      "image/png": "[encoded data removed]",
      "text/plain": [
       "<Figure size 432x288 with 2 Axes>"
      ]
     },
     "metadata": {},
     "output_type": "display_data"
    }
   ],
   "source": [
    "conf_mat = confusion_matrix(y, cv_predictions, labels=np.sort(y.unique()))\n",
    "conf_mat_df = pd.DataFrame(\n",
    "    conf_mat, \n",
    "    index=np.sort(y.unique()), \n",
    "    columns=np.sort(y.unique()))\n",
    "\n",
    "conf_mat_props = pd.DataFrame(\n",
    "    conf_mat_df.values / conf_mat_df.sum(axis=1)[:,None],\n",
    "    index=np.sort(y.unique()), \n",
    "    columns=np.sort(y.unique()))\n",
    "\n",
    "sns.heatmap(conf_mat_props, annot=True);"
   ]
  },
  {
   "cell_type": "code",
   "execution_count": 26,
   "metadata": {},
   "outputs": [
    {
     "data": {
      "text/plain": [
       "3.0"
      ]
     },
     "execution_count": 26,
     "metadata": {},
     "output_type": "execute_result"
    }
   ],
   "source": [
    "conf_mat_props.apply(lambda x: (x == 0).sum()).mean()"
   ]
  },
  {
   "cell_type": "markdown",
   "metadata": {},
   "source": [
    "There are considerably more zero-valued entries in the confusion matrix compared to the KNN and SVM models and, consequently, more instances are mis-classified as belonging to the Package Grocery class.  We might consider developing features that can more clearly differentiate Packaged Grocery from other categories or other categories from Packaged Grocery."
   ]
  },
  {
   "cell_type": "markdown",
   "metadata": {},
   "source": [
    "#### Learning Curve"
   ]
  },
  {
   "cell_type": "code",
   "execution_count": 27,
   "metadata": {},
   "outputs": [
    {
     "data": {
      "image/png": "[encoded data removed]",
      "text/plain": [
       "<Figure size 432x288 with 1 Axes>"
      ]
     },
     "metadata": {},
     "output_type": "display_data"
    }
   ],
   "source": [
    "# Plot the learning curve\n",
    "plot_learning_curve(model.get_model_pipeline(), 'Random Forest Learning Curve', X, y, cv=CV);"
   ]
  },
  {
   "cell_type": "markdown",
   "metadata": {},
   "source": [
    "The model appears to be suffering from both low bias and high variance - even with a training score of 72%, there are too many mis-classifications for this model to be useful."
   ]
  }
 ],
 "metadata": {
  "kernelspec": {
   "display_name": "Python 3",
   "language": "python",
   "name": "python3"
  },
  "language_info": {
   "codemirror_mode": {
    "name": "ipython",
    "version": 3
   },
   "file_extension": ".py",
   "mimetype": "text/x-python",
   "name": "python",
   "nbconvert_exporter": "python",
   "pygments_lexer": "ipython3",
   "version": "3.5.5"
  }
 },
 "nbformat": 4,
 "nbformat_minor": 2
}
