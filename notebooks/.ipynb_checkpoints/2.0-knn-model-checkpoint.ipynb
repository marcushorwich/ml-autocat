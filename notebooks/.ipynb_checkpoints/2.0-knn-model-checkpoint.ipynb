{
 "cells": [
  {
   "cell_type": "code",
   "execution_count": 39,
   "metadata": {},
   "outputs": [
    {
     "name": "stdout",
     "output_type": "stream",
     "text": [
      "The autoreload extension is already loaded. To reload it, use:\n",
      "  %reload_ext autoreload\n"
     ]
    }
   ],
   "source": [
    "%load_ext autoreload\n",
    "%autoreload 2"
   ]
  },
  {
   "cell_type": "code",
   "execution_count": 40,
   "metadata": {},
   "outputs": [],
   "source": [
    "import sys, os\n",
    "sys.path.insert(1, os.path.join(sys.path[0], '..'))"
   ]
  },
  {
   "cell_type": "code",
   "execution_count": 53,
   "metadata": {},
   "outputs": [],
   "source": [
    "import numpy as np\n",
    "import pandas as pd\n",
    "import seaborn as sns\n",
    "%matplotlib inline\n",
    "\n",
    "# Pipeline\n",
    "from sklearn.pipeline import Pipeline, make_pipeline\n",
    "from sklearn.preprocessing import StandardScaler\n",
    "from sklearn.externals import joblib\n",
    "\n",
    "# Model selection\n",
    "from sklearn.model_selection import train_test_split, cross_val_score, cross_val_predict\n",
    "from sklearn.metrics import make_scorer, f1_score, classification_report\n",
    "\n",
    "# Model\n",
    "from sklearn.neighbors import KNeighborsClassifier\n",
    "\n",
    "# Internal\n",
    "from autocat.data.datasets import get_training_data\n",
    "from autocat.data.features import CombinedFeatureAdder, feature_transactions_per_day, PandasDataFrameTransformer\n",
    "from autocat.data.filters import FeatureFilters, no_null_StdUnitsShipped_StdNetAmount\n",
    "from autocat.models import GridSearchModel\n",
    "from autocat.models.evaluation import plot_learning_curve, evaluate"
   ]
  },
  {
   "cell_type": "code",
   "execution_count": 42,
   "metadata": {},
   "outputs": [],
   "source": [
    "TRAINING_DATA = '../data/processed/train_2018-08-04.csv'\n",
    "CV_FOLDS = 5"
   ]
  },
  {
   "cell_type": "markdown",
   "metadata": {},
   "source": [
    "## Pipeline"
   ]
  },
  {
   "cell_type": "code",
   "execution_count": 43,
   "metadata": {},
   "outputs": [],
   "source": [
    "# Create feaure matrix and label vector\n",
    "X, y = get_training_data(TRAINING_DATA, [\n",
    "    no_null_StdUnitsShipped_StdNetAmount\n",
    "], drop_na=True)"
   ]
  },
  {
   "cell_type": "code",
   "execution_count": 44,
   "metadata": {},
   "outputs": [],
   "source": [
    "# Split the data into training and test sets\n",
    "# (Creates validation and training set)\n",
    "X_train, X_test, y_train, y_test = train_test_split(X, y, test_size=.2, stratify=y)"
   ]
  },
  {
   "cell_type": "code",
   "execution_count": 45,
   "metadata": {},
   "outputs": [
    {
     "name": "stdout",
     "output_type": "stream",
     "text": [
      "Training instances: 5043\n",
      "Holdout instances: 1261\n"
     ]
    }
   ],
   "source": [
    "print('Training instances:', len(X_train))\n",
    "print('Holdout instances:', len(X_test))"
   ]
  },
  {
   "cell_type": "code",
   "execution_count": 46,
   "metadata": {},
   "outputs": [],
   "source": [
    "# Create a pipeline to transform the modelling data\n",
    "pipeline = Pipeline([\n",
    "    ('feaure_transactions_per_day', CombinedFeatureAdder(feature_transactions_per_day)),\n",
    "    ('std_scaler', StandardScaler()),\n",
    "    ('data_frame', PandasDataFrameTransformer(list(X.columns) + ['TransactionsPerDay']))\n",
    "])"
   ]
  },
  {
   "cell_type": "code",
   "execution_count": 47,
   "metadata": {},
   "outputs": [],
   "source": [
    "# Create the parameter grid\n",
    "param_grid = [\n",
    "    {\n",
    "        'knn__n_neighbors': [1, 3, 5, 10, 25, 30, 45, 50], \n",
    "        'knn__metric': ['euclidean'],\n",
    "        'knn__weights': ['uniform', 'distance']\n",
    "    },\n",
    "   {\n",
    "       'knn__n_neighbors': [1, 3, 5, 10, 25, 30, 45, 50], \n",
    "       'knn__metric': ['minkowski'],\n",
    "        'knn__weights': ['uniform', 'distance'],\n",
    "       'knn__p': [1, 3]\n",
    "    }\n",
    "  ]"
   ]
  },
  {
   "cell_type": "code",
   "execution_count": 48,
   "metadata": {},
   "outputs": [],
   "source": [
    "# Create our scorer -> f1\n",
    "scorer = make_scorer(f1_score, average='micro')"
   ]
  },
  {
   "cell_type": "markdown",
   "metadata": {},
   "source": [
    "## Model"
   ]
  },
  {
   "cell_type": "code",
   "execution_count": 49,
   "metadata": {},
   "outputs": [
    {
     "data": {
      "text/plain": [
       "KNeighborsClassifier(algorithm='auto', leaf_size=30, metric='minkowski',\n",
       "           metric_params=None, n_jobs=1, n_neighbors=25, p=1,\n",
       "           weights='distance')"
      ]
     },
     "execution_count": 49,
     "metadata": {},
     "output_type": "execute_result"
    }
   ],
   "source": [
    "# Create the optimization model\n",
    "knn_model = GridSearchModel('knn', KNeighborsClassifier(), param_grid, pipeline)\n",
    "knn_model.train(X, y, CV_FOLDS, scorer)\n",
    "knn_model.model"
   ]
  },
  {
   "cell_type": "markdown",
   "metadata": {},
   "source": [
    "## Evaluation"
   ]
  },
  {
   "cell_type": "markdown",
   "metadata": {},
   "source": [
    "#### Training Set"
   ]
  },
  {
   "cell_type": "code",
   "execution_count": 50,
   "metadata": {},
   "outputs": [
    {
     "name": "stdout",
     "output_type": "stream",
     "text": [
      "                      precision    recall  f1-score   support\n",
      "\n",
      "           Body Care       0.99      1.00      1.00      1050\n",
      "              Frozen       0.99      0.99      0.99       346\n",
      "                Meat       1.00      1.00      1.00       114\n",
      "    Packaged Grocery       0.99      1.00      1.00      3382\n",
      "        Packaged Tea       1.00      0.98      0.99       250\n",
      "Refrigerated Grocery       1.00      0.99      0.99       667\n",
      "            Vitamins       1.00      0.98      0.99       495\n",
      "\n",
      "         avg / total       0.99      0.99      0.99      6304\n",
      "\n",
      "0.9944479695431472\n"
     ]
    }
   ],
   "source": [
    "training_predictions = knn_model.model.predict(knn_model.pipeline.fit_transform(X))\n",
    "print(classification_report(y, training_predictions))\n",
    "print(f1_score(y, training_predictions, average='micro'))"
   ]
  },
  {
   "cell_type": "markdown",
   "metadata": {},
   "source": [
    "#### Cross Validation"
   ]
  },
  {
   "cell_type": "code",
   "execution_count": 51,
   "metadata": {},
   "outputs": [
    {
     "name": "stdout",
     "output_type": "stream",
     "text": [
      "0.695748730964467\n",
      "                      precision    recall  f1-score   support\n",
      "\n",
      "           Body Care       0.68      0.77      0.72      1050\n",
      "              Frozen       0.24      0.01      0.02       346\n",
      "                Meat       0.87      0.66      0.75       114\n",
      "    Packaged Grocery       0.71      0.91      0.80      3382\n",
      "        Packaged Tea       0.57      0.07      0.12       250\n",
      "Refrigerated Grocery       0.65      0.45      0.53       667\n",
      "            Vitamins       0.54      0.24      0.33       495\n",
      "\n",
      "         avg / total       0.66      0.70      0.65      6304\n",
      "\n"
     ]
    }
   ],
   "source": [
    "cv_predictions = cross_val_predict(knn_model.get_model_pipeline(), X, y, cv=10)\n",
    "print(f1_score(y, cv_predictions, average='micro'))\n",
    "print(classification_report(y, cv_predictions))"
   ]
  },
  {
   "cell_type": "code",
   "execution_count": 54,
   "metadata": {},
   "outputs": [
    {
     "data": {
      "image/png": "[encoded data removed]",
      "text/plain": [
       "<Figure size 432x288 with 1 Axes>"
      ]
     },
     "metadata": {},
     "output_type": "display_data"
    }
   ],
   "source": [
    "# Plot the learning curve\n",
    "plot_learning_curve(knn_model.get_model_pipeline(), 'Learning Curves KNN', X, y, cv=5, n_jobs=-1);"
   ]
  },
  {
   "cell_type": "markdown",
   "metadata": {},
   "source": [
    "The KNN appears to be too complex given the number of training examples.  Adding more training data would likely help but we don't have any more data or resources to acquire more."
   ]
  }
 ],
 "metadata": {
  "kernelspec": {
   "display_name": "Python 3",
   "language": "python",
   "name": "python3"
  },
  "language_info": {
   "codemirror_mode": {
    "name": "ipython",
    "version": 3
   },
   "file_extension": ".py",
   "mimetype": "text/x-python",
   "name": "python",
   "nbconvert_exporter": "python",
   "pygments_lexer": "ipython3",
   "version": "3.5.5"
  }
 },
 "nbformat": 4,
 "nbformat_minor": 2
}
