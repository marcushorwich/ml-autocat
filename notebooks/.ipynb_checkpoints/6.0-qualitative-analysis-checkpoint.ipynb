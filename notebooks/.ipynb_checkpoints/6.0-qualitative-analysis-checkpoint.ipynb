{
 "cells": [
  {
   "cell_type": "markdown",
   "metadata": {},
   "source": [
    "Now that we have optimized a model, we can evaluate out-of-sample estimates using cross validation.  With these samples, we can evaluate the total financial error made in allocating purchases to wrongful GL categories.  At this point, it's not clear what the real-life costs are - whether they are used to simply understand which categories are impacting P/L or other financial statements, or to use in strategic planning such as marketing campaigns, vendor negotiations, etc."
   ]
  },
  {
   "cell_type": "code",
   "execution_count": 51,
   "metadata": {},
   "outputs": [
    {
     "name": "stdout",
     "output_type": "stream",
     "text": [
      "The autoreload extension is already loaded. To reload it, use:\n",
      "  %reload_ext autoreload\n"
     ]
    }
   ],
   "source": [
    "%load_ext autoreload\n",
    "%autoreload 2\n",
    "import sys, os\n",
    "sys.path.insert(1, os.path.join(sys.path[0], '..'))"
   ]
  },
  {
   "cell_type": "code",
   "execution_count": 97,
   "metadata": {},
   "outputs": [],
   "source": [
    "import pandas as pd\n",
    "from autocat.models.svm import get_svm_model_v1\n",
    "from autocat.data.features import CombinedFeatureAdder, PandasDataFrameTransformer, feature_transactions_per_day\n",
    "from autocat.data.filters import no_null_StdUnitsShipped_StdNetAmount\n",
    "from autocat.data.datasets import get_training_data, get_project_data\n",
    "from autocat.models.evaluation import get_scorer\n",
    "\n",
    "from sklearn.preprocessing import StandardScaler\n",
    "from sklearn.pipeline import Pipeline\n",
    "from sklearn.metrics import f1_score"
   ]
  },
  {
   "cell_type": "markdown",
   "metadata": {},
   "source": [
    "## Model\n",
    "Load the pre-trained, optimized model and make predictions on the test set"
   ]
  },
  {
   "cell_type": "code",
   "execution_count": 81,
   "metadata": {},
   "outputs": [],
   "source": [
    "TRAINING_DATA = '../data/processed/train_2018-08-24.csv'\n",
    "model, X, y = get_svm_model_v1()"
   ]
  },
  {
   "cell_type": "code",
   "execution_count": 82,
   "metadata": {},
   "outputs": [],
   "source": [
    "predictions = model.predict(X)"
   ]
  },
  {
   "cell_type": "code",
   "execution_count": 89,
   "metadata": {},
   "outputs": [
    {
     "name": "stdout",
     "output_type": "stream",
     "text": [
      "True     4149\n",
      "False    1461\n",
      "Name: Correct, dtype: int64\n",
      "True     0.739572\n",
      "False    0.260428\n",
      "Name: Correct, dtype: float64\n"
     ]
    }
   ],
   "source": [
    "results = pd.DataFrame.from_records(list(zip(y, predictions)), columns=['Actual', 'Predicted'])\n",
    "results['Correct'] = results.Actual == results.Predicted\n",
    "print(results.Correct.value_counts(normalize=False))\n",
    "print(results.Correct.value_counts(normalize=True))"
   ]
  },
  {
   "cell_type": "code",
   "execution_count": 96,
   "metadata": {},
   "outputs": [
    {
     "data": {
      "text/plain": [
       "Actual\n",
       "Meat                     27\n",
       "Packaged Grocery        130\n",
       "Body Care               196\n",
       "Packaged Tea            210\n",
       "Vitamins                285\n",
       "Frozen                  290\n",
       "Refrigerated Grocery    323\n",
       "dtype: int64"
      ]
     },
     "execution_count": 96,
     "metadata": {},
     "output_type": "execute_result"
    }
   ],
   "source": [
    "results.query('Correct == False').groupby(['Actual']).size().sort_values(ascending=True)"
   ]
  },
  {
   "cell_type": "markdown",
   "metadata": {},
   "source": [
    "## Financial Evaluation"
   ]
  },
  {
   "cell_type": "markdown",
   "metadata": {},
   "source": [
    "Load the original data and make sure it matches our training data"
   ]
  },
  {
   "cell_type": "code",
   "execution_count": 98,
   "metadata": {},
   "outputs": [
    {
     "data": {
      "text/html": [
       "<div>\n",
       "<style scoped>\n",
       "    .dataframe tbody tr th:only-of-type {\n",
       "        vertical-align: middle;\n",
       "    }\n",
       "\n",
       "    .dataframe tbody tr th {\n",
       "        vertical-align: top;\n",
       "    }\n",
       "\n",
       "    .dataframe thead th {\n",
       "        text-align: right;\n",
       "    }\n",
       "</style>\n",
       "<table border=\"1\" class=\"dataframe\">\n",
       "  <thead>\n",
       "    <tr style=\"text-align: right;\">\n",
       "      <th></th>\n",
       "      <th>UniversalProductCode</th>\n",
       "      <th>AvgUnitsShipped</th>\n",
       "      <th>StdUnitsShipped</th>\n",
       "      <th>MinUnitsShipped</th>\n",
       "      <th>MaxUnitsShipped</th>\n",
       "      <th>AvgNetAmount</th>\n",
       "      <th>StdNetAmount</th>\n",
       "      <th>MinNetAmount</th>\n",
       "      <th>MaxNetAmount</th>\n",
       "      <th>NumberOfTransactions</th>\n",
       "      <th>NumberOfTransactionDays</th>\n",
       "      <th>GLCategory</th>\n",
       "    </tr>\n",
       "  </thead>\n",
       "  <tbody>\n",
       "    <tr>\n",
       "      <th>0</th>\n",
       "      <td>69765869205</td>\n",
       "      <td>1.000000</td>\n",
       "      <td>0.000000</td>\n",
       "      <td>1.0</td>\n",
       "      <td>1.0</td>\n",
       "      <td>37.183750</td>\n",
       "      <td>2.495539</td>\n",
       "      <td>34.92</td>\n",
       "      <td>40.50</td>\n",
       "      <td>8</td>\n",
       "      <td>8</td>\n",
       "      <td>Packaged Grocery</td>\n",
       "    </tr>\n",
       "    <tr>\n",
       "      <th>1</th>\n",
       "      <td>2250613410</td>\n",
       "      <td>1.145454</td>\n",
       "      <td>0.573699</td>\n",
       "      <td>1.0</td>\n",
       "      <td>6.0</td>\n",
       "      <td>35.645381</td>\n",
       "      <td>8.054258</td>\n",
       "      <td>0.00</td>\n",
       "      <td>76.20</td>\n",
       "      <td>275</td>\n",
       "      <td>174</td>\n",
       "      <td>Packaged Grocery</td>\n",
       "    </tr>\n",
       "    <tr>\n",
       "      <th>2</th>\n",
       "      <td>85688520009</td>\n",
       "      <td>4.336294</td>\n",
       "      <td>4.418702</td>\n",
       "      <td>0.0</td>\n",
       "      <td>36.0</td>\n",
       "      <td>8.962798</td>\n",
       "      <td>9.049392</td>\n",
       "      <td>0.00</td>\n",
       "      <td>79.56</td>\n",
       "      <td>1576</td>\n",
       "      <td>264</td>\n",
       "      <td>Body Care</td>\n",
       "    </tr>\n",
       "    <tr>\n",
       "      <th>3</th>\n",
       "      <td>89477300104</td>\n",
       "      <td>1.343834</td>\n",
       "      <td>0.910368</td>\n",
       "      <td>0.0</td>\n",
       "      <td>20.0</td>\n",
       "      <td>19.427881</td>\n",
       "      <td>13.187472</td>\n",
       "      <td>0.00</td>\n",
       "      <td>231.40</td>\n",
       "      <td>3682</td>\n",
       "      <td>290</td>\n",
       "      <td>Packaged Grocery</td>\n",
       "    </tr>\n",
       "    <tr>\n",
       "      <th>4</th>\n",
       "      <td>25317775304</td>\n",
       "      <td>1.579902</td>\n",
       "      <td>1.617614</td>\n",
       "      <td>-3.0</td>\n",
       "      <td>26.0</td>\n",
       "      <td>72.828589</td>\n",
       "      <td>68.665828</td>\n",
       "      <td>-123.66</td>\n",
       "      <td>1071.72</td>\n",
       "      <td>1531</td>\n",
       "      <td>237</td>\n",
       "      <td>Meat</td>\n",
       "    </tr>\n",
       "  </tbody>\n",
       "</table>\n",
       "</div>"
      ],
      "text/plain": [
       "  UniversalProductCode  AvgUnitsShipped  StdUnitsShipped  MinUnitsShipped  \\\n",
       "0          69765869205         1.000000         0.000000              1.0   \n",
       "1           2250613410         1.145454         0.573699              1.0   \n",
       "2          85688520009         4.336294         4.418702              0.0   \n",
       "3          89477300104         1.343834         0.910368              0.0   \n",
       "4          25317775304         1.579902         1.617614             -3.0   \n",
       "\n",
       "   MaxUnitsShipped  AvgNetAmount  StdNetAmount  MinNetAmount  MaxNetAmount  \\\n",
       "0              1.0     37.183750      2.495539         34.92         40.50   \n",
       "1              6.0     35.645381      8.054258          0.00         76.20   \n",
       "2             36.0      8.962798      9.049392          0.00         79.56   \n",
       "3             20.0     19.427881     13.187472          0.00        231.40   \n",
       "4             26.0     72.828589     68.665828       -123.66       1071.72   \n",
       "\n",
       "   NumberOfTransactions  NumberOfTransactionDays        GLCategory  \n",
       "0                     8                        8  Packaged Grocery  \n",
       "1                   275                      174  Packaged Grocery  \n",
       "2                  1576                      264         Body Care  \n",
       "3                  3682                      290  Packaged Grocery  \n",
       "4                  1531                      237              Meat  "
      ]
     },
     "execution_count": 98,
     "metadata": {},
     "output_type": "execute_result"
    }
   ],
   "source": [
    "project_data = get_project_data()\n",
    "project_data.head()"
   ]
  },
  {
   "cell_type": "code",
   "execution_count": 121,
   "metadata": {},
   "outputs": [
    {
     "data": {
      "text/html": [
       "<div>\n",
       "<style scoped>\n",
       "    .dataframe tbody tr th:only-of-type {\n",
       "        vertical-align: middle;\n",
       "    }\n",
       "\n",
       "    .dataframe tbody tr th {\n",
       "        vertical-align: top;\n",
       "    }\n",
       "\n",
       "    .dataframe thead th {\n",
       "        text-align: right;\n",
       "    }\n",
       "</style>\n",
       "<table border=\"1\" class=\"dataframe\">\n",
       "  <thead>\n",
       "    <tr style=\"text-align: right;\">\n",
       "      <th></th>\n",
       "      <th>AvgUnitsShipped</th>\n",
       "      <th>StdUnitsShipped</th>\n",
       "      <th>MinUnitsShipped</th>\n",
       "      <th>MaxUnitsShipped</th>\n",
       "      <th>AvgNetAmount</th>\n",
       "      <th>StdNetAmount</th>\n",
       "      <th>MinNetAmount</th>\n",
       "      <th>MaxNetAmount</th>\n",
       "      <th>NumberOfTransactions</th>\n",
       "      <th>NumberOfTransactionDays</th>\n",
       "    </tr>\n",
       "    <tr>\n",
       "      <th>index</th>\n",
       "      <th></th>\n",
       "      <th></th>\n",
       "      <th></th>\n",
       "      <th></th>\n",
       "      <th></th>\n",
       "      <th></th>\n",
       "      <th></th>\n",
       "      <th></th>\n",
       "      <th></th>\n",
       "      <th></th>\n",
       "    </tr>\n",
       "  </thead>\n",
       "  <tbody>\n",
       "    <tr>\n",
       "      <th>677</th>\n",
       "      <td>1.018181</td>\n",
       "      <td>0.195270</td>\n",
       "      <td>0.0</td>\n",
       "      <td>4.0</td>\n",
       "      <td>50.620929</td>\n",
       "      <td>10.015416</td>\n",
       "      <td>0.00</td>\n",
       "      <td>203.84</td>\n",
       "      <td>495</td>\n",
       "      <td>218</td>\n",
       "    </tr>\n",
       "    <tr>\n",
       "      <th>4971</th>\n",
       "      <td>0.993097</td>\n",
       "      <td>0.334028</td>\n",
       "      <td>0.0</td>\n",
       "      <td>8.0</td>\n",
       "      <td>18.981970</td>\n",
       "      <td>6.503373</td>\n",
       "      <td>0.00</td>\n",
       "      <td>156.16</td>\n",
       "      <td>3477</td>\n",
       "      <td>290</td>\n",
       "    </tr>\n",
       "    <tr>\n",
       "      <th>4762</th>\n",
       "      <td>2.088541</td>\n",
       "      <td>1.485281</td>\n",
       "      <td>1.0</td>\n",
       "      <td>13.0</td>\n",
       "      <td>9.058697</td>\n",
       "      <td>6.424840</td>\n",
       "      <td>3.63</td>\n",
       "      <td>53.76</td>\n",
       "      <td>576</td>\n",
       "      <td>236</td>\n",
       "    </tr>\n",
       "    <tr>\n",
       "      <th>3317</th>\n",
       "      <td>1.139293</td>\n",
       "      <td>0.451081</td>\n",
       "      <td>0.0</td>\n",
       "      <td>4.0</td>\n",
       "      <td>22.904033</td>\n",
       "      <td>8.955612</td>\n",
       "      <td>0.00</td>\n",
       "      <td>83.20</td>\n",
       "      <td>481</td>\n",
       "      <td>218</td>\n",
       "    </tr>\n",
       "    <tr>\n",
       "      <th>4725</th>\n",
       "      <td>0.877192</td>\n",
       "      <td>0.425532</td>\n",
       "      <td>0.0</td>\n",
       "      <td>2.0</td>\n",
       "      <td>65.888421</td>\n",
       "      <td>31.647992</td>\n",
       "      <td>0.00</td>\n",
       "      <td>139.56</td>\n",
       "      <td>57</td>\n",
       "      <td>46</td>\n",
       "    </tr>\n",
       "  </tbody>\n",
       "</table>\n",
       "</div>"
      ],
      "text/plain": [
       "       AvgUnitsShipped  StdUnitsShipped  MinUnitsShipped  MaxUnitsShipped  \\\n",
       "index                                                                       \n",
       "677           1.018181         0.195270              0.0              4.0   \n",
       "4971          0.993097         0.334028              0.0              8.0   \n",
       "4762          2.088541         1.485281              1.0             13.0   \n",
       "3317          1.139293         0.451081              0.0              4.0   \n",
       "4725          0.877192         0.425532              0.0              2.0   \n",
       "\n",
       "       AvgNetAmount  StdNetAmount  MinNetAmount  MaxNetAmount  \\\n",
       "index                                                           \n",
       "677       50.620929     10.015416          0.00        203.84   \n",
       "4971      18.981970      6.503373          0.00        156.16   \n",
       "4762       9.058697      6.424840          3.63         53.76   \n",
       "3317      22.904033      8.955612          0.00         83.20   \n",
       "4725      65.888421     31.647992          0.00        139.56   \n",
       "\n",
       "       NumberOfTransactions  NumberOfTransactionDays  \n",
       "index                                                 \n",
       "677                     495                      218  \n",
       "4971                   3477                      290  \n",
       "4762                    576                      236  \n",
       "3317                    481                      218  \n",
       "4725                     57                       46  "
      ]
     },
     "execution_count": 121,
     "metadata": {},
     "output_type": "execute_result"
    }
   ],
   "source": [
    "X.head()"
   ]
  },
  {
   "cell_type": "code",
   "execution_count": 124,
   "metadata": {},
   "outputs": [
    {
     "data": {
      "text/plain": [
       "(AvgUnitsShipped              1.018181\n",
       " StdUnitsShipped              0.195270\n",
       " MinUnitsShipped              0.000000\n",
       " MaxUnitsShipped              4.000000\n",
       " AvgNetAmount                50.620929\n",
       " StdNetAmount                10.015416\n",
       " MinNetAmount                 0.000000\n",
       " MaxNetAmount               203.840000\n",
       " NumberOfTransactions       495.000000\n",
       " NumberOfTransactionDays    218.000000\n",
       " Name: 677, dtype: float64, 'Frozen')"
      ]
     },
     "execution_count": 124,
     "metadata": {},
     "output_type": "execute_result"
    }
   ],
   "source": [
    "X.iloc[0], y.iloc[0]"
   ]
  },
  {
   "cell_type": "code",
   "execution_count": 119,
   "metadata": {},
   "outputs": [
    {
     "data": {
      "text/plain": [
       "UniversalProductCode       4227200373\n",
       "AvgUnitsShipped               1.01818\n",
       "StdUnitsShipped               0.19527\n",
       "MinUnitsShipped                     0\n",
       "MaxUnitsShipped                     4\n",
       "AvgNetAmount                  50.6209\n",
       "StdNetAmount                  10.0154\n",
       "MinNetAmount                        0\n",
       "MaxNetAmount                   203.84\n",
       "NumberOfTransactions              495\n",
       "NumberOfTransactionDays           218\n",
       "GLCategory                     Frozen\n",
       "Name: 677, dtype: object"
      ]
     },
     "execution_count": 119,
     "metadata": {},
     "output_type": "execute_result"
    }
   ],
   "source": [
    "project_data.loc[677]"
   ]
  },
  {
   "cell_type": "markdown",
   "metadata": {},
   "source": [
    "Load the product stats that include average price and total volume"
   ]
  }
 ],
 "metadata": {
  "kernelspec": {
   "display_name": "Python 3",
   "language": "python",
   "name": "python3"
  },
  "language_info": {
   "codemirror_mode": {
    "name": "ipython",
    "version": 3
   },
   "file_extension": ".py",
   "mimetype": "text/x-python",
   "name": "python",
   "nbconvert_exporter": "python",
   "pygments_lexer": "ipython3",
   "version": "3.5.5"
  }
 },
 "nbformat": 4,
 "nbformat_minor": 2
}
