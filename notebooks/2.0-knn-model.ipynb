{
 "cells": [
  {
   "cell_type": "code",
   "execution_count": 55,
   "metadata": {},
   "outputs": [
    {
     "name": "stdout",
     "output_type": "stream",
     "text": [
      "The autoreload extension is already loaded. To reload it, use:\n",
      "  %reload_ext autoreload\n"
     ]
    }
   ],
   "source": [
    "%load_ext autoreload\n",
    "%autoreload 2"
   ]
  },
  {
   "cell_type": "code",
   "execution_count": 56,
   "metadata": {},
   "outputs": [],
   "source": [
    "import sys, os\n",
    "sys.path.insert(1, os.path.join(sys.path[0], '..'))"
   ]
  },
  {
   "cell_type": "code",
   "execution_count": 69,
   "metadata": {},
   "outputs": [],
   "source": [
    "import numpy as np\n",
    "import pandas as pd\n",
    "import seaborn as sns\n",
    "%matplotlib inline\n",
    "\n",
    "# Pipeline\n",
    "from sklearn.pipeline import Pipeline, make_pipeline\n",
    "from sklearn.preprocessing import StandardScaler\n",
    "from sklearn.externals import joblib\n",
    "\n",
    "# Model selection\n",
    "from sklearn.model_selection import train_test_split, cross_val_score, cross_val_predict\n",
    "from sklearn.metrics import make_scorer, f1_score, classification_report, confusion_matrix\n",
    "\n",
    "# Model\n",
    "from sklearn.neighbors import KNeighborsClassifier\n",
    "\n",
    "# Internal\n",
    "from autocat.data.datasets import get_training_data\n",
    "from autocat.data.features import CombinedFeatureAdder, feature_transactions_per_day, PandasDataFrameTransformer\n",
    "from autocat.data.filters import FeatureFilters, no_null_StdUnitsShipped_StdNetAmount\n",
    "from autocat.models import GridSearchModel\n",
    "from autocat.models.evaluation import plot_learning_curve, evaluate"
   ]
  },
  {
   "cell_type": "code",
   "execution_count": 255,
   "metadata": {},
   "outputs": [],
   "source": [
    "TRAINING_DATA = '../data/processed/train_2018-08-24.csv'"
   ]
  },
  {
   "cell_type": "markdown",
   "metadata": {},
   "source": [
    "## Pipeline"
   ]
  },
  {
   "cell_type": "code",
   "execution_count": 58,
   "metadata": {},
   "outputs": [],
   "source": [
    "# Create feaure matrix and label vector\n",
    "X, y = get_training_data(TRAINING_DATA, [\n",
    "    no_null_StdUnitsShipped_StdNetAmount\n",
    "], drop_na=True)"
   ]
  },
  {
   "cell_type": "code",
   "execution_count": 67,
   "metadata": {},
   "outputs": [
    {
     "name": "stdout",
     "output_type": "stream",
     "text": [
      "Training instances: 6304\n"
     ]
    }
   ],
   "source": [
    "print('Training instances:', len(X))"
   ]
  },
  {
   "cell_type": "code",
   "execution_count": 61,
   "metadata": {},
   "outputs": [],
   "source": [
    "# Create a pipeline to transform the modelling data\n",
    "pipeline = Pipeline([\n",
    "    ('feaure_transactions_per_day', CombinedFeatureAdder(feature_transactions_per_day)),\n",
    "    ('std_scaler', StandardScaler()),\n",
    "    ('data_frame', PandasDataFrameTransformer(list(X.columns) + ['TransactionsPerDay']))\n",
    "])"
   ]
  },
  {
   "cell_type": "markdown",
   "metadata": {},
   "source": [
    "## Model"
   ]
  },
  {
   "cell_type": "code",
   "execution_count": 62,
   "metadata": {},
   "outputs": [],
   "source": [
    "# Create the parameter grid to optimize\n",
    "param_grid = [\n",
    "    {\n",
    "        'knn__n_neighbors': [1, 3, 5, 10, 25, 30, 45, 50], \n",
    "        'knn__metric': ['euclidean'],\n",
    "        'knn__weights': ['uniform', 'distance']\n",
    "    },\n",
    "   {\n",
    "       'knn__n_neighbors': [1, 3, 5, 10, 25, 30, 45, 50], \n",
    "       'knn__metric': ['minkowski'],\n",
    "        'knn__weights': ['uniform', 'distance'],\n",
    "       'knn__p': [1, 3]\n",
    "    }\n",
    "  ]"
   ]
  },
  {
   "cell_type": "code",
   "execution_count": 65,
   "metadata": {},
   "outputs": [],
   "source": [
    "# Create the optimization model\n",
    "scorer = make_scorer(f1_score, average='micro')\n",
    "knn_model = GridSearchModel('knn', KNeighborsClassifier(), param_grid, pipeline)\n",
    "knn_model.train(X, y, 5, scorer)"
   ]
  },
  {
   "cell_type": "code",
   "execution_count": 65,
   "metadata": {},
   "outputs": [
    {
     "data": {
      "text/plain": [
       "KNeighborsClassifier(algorithm='auto', leaf_size=30, metric='minkowski',\n",
       "           metric_params=None, n_jobs=1, n_neighbors=25, p=1,\n",
       "           weights='distance')"
      ]
     },
     "execution_count": 65,
     "metadata": {},
     "output_type": "execute_result"
    }
   ],
   "source": [
    "# Final model\n",
    "knn_model.model"
   ]
  },
  {
   "cell_type": "markdown",
   "metadata": {},
   "source": [
    "## Evaluation"
   ]
  },
  {
   "cell_type": "markdown",
   "metadata": {},
   "source": [
    "#### Training Set"
   ]
  },
  {
   "cell_type": "code",
   "execution_count": 66,
   "metadata": {},
   "outputs": [
    {
     "name": "stdout",
     "output_type": "stream",
     "text": [
      "                      precision    recall  f1-score   support\n",
      "\n",
      "           Body Care       0.99      1.00      1.00      1050\n",
      "              Frozen       0.99      0.99      0.99       346\n",
      "                Meat       1.00      1.00      1.00       114\n",
      "    Packaged Grocery       0.99      1.00      1.00      3382\n",
      "        Packaged Tea       1.00      0.98      0.99       250\n",
      "Refrigerated Grocery       1.00      0.99      0.99       667\n",
      "            Vitamins       1.00      0.98      0.99       495\n",
      "\n",
      "         avg / total       0.99      0.99      0.99      6304\n",
      "\n",
      "0.9944479695431472\n"
     ]
    }
   ],
   "source": [
    "training_predictions = knn_model.model.predict(knn_model.pipeline.fit_transform(X))\n",
    "print(classification_report(y, training_predictions))\n",
    "print(f1_score(y, training_predictions, average='micro'))"
   ]
  },
  {
   "cell_type": "markdown",
   "metadata": {},
   "source": [
    "#### Cross Validation"
   ]
  },
  {
   "cell_type": "code",
   "execution_count": 305,
   "metadata": {},
   "outputs": [],
   "source": [
    "CV=10"
   ]
  },
  {
   "cell_type": "code",
   "execution_count": 51,
   "metadata": {},
   "outputs": [
    {
     "name": "stdout",
     "output_type": "stream",
     "text": [
      "0.695748730964467\n",
      "                      precision    recall  f1-score   support\n",
      "\n",
      "           Body Care       0.68      0.77      0.72      1050\n",
      "              Frozen       0.24      0.01      0.02       346\n",
      "                Meat       0.87      0.66      0.75       114\n",
      "    Packaged Grocery       0.71      0.91      0.80      3382\n",
      "        Packaged Tea       0.57      0.07      0.12       250\n",
      "Refrigerated Grocery       0.65      0.45      0.53       667\n",
      "            Vitamins       0.54      0.24      0.33       495\n",
      "\n",
      "         avg / total       0.66      0.70      0.65      6304\n",
      "\n"
     ]
    }
   ],
   "source": [
    "cv_predictions = cross_val_predict(knn_model.get_model_pipeline(), X, y, cv=CV)\n",
    "print(f1_score(y, cv_predictions, average='micro'))\n",
    "print(classification_report(y, cv_predictions))"
   ]
  },
  {
   "cell_type": "markdown",
   "metadata": {},
   "source": [
    "The KNN model performs well for the following categories: \n",
    "* Body Care\n",
    "* Meat \n",
    "* Packaged Grocery"
   ]
  },
  {
   "cell_type": "markdown",
   "metadata": {},
   "source": [
    "#### Confusion Matrix"
   ]
  },
  {
   "cell_type": "code",
   "execution_count": 70,
   "metadata": {},
   "outputs": [
    {
     "data": {
      "image/png": "[encoded data removed]",
      "text/plain": [
       "<Figure size 432x288 with 2 Axes>"
      ]
     },
     "metadata": {},
     "output_type": "display_data"
    }
   ],
   "source": [
    "conf_mat = confusion_matrix(y, cv_predictions, labels=np.sort(y.unique()))\n",
    "conf_mat_df = pd.DataFrame(\n",
    "    conf_mat, \n",
    "    index=np.sort(y.unique()), \n",
    "    columns=np.sort(y.unique()))\n",
    "\n",
    "conf_mat_props = pd.DataFrame(\n",
    "    conf_mat_df.values / conf_mat_df.sum(axis=1)[:,None],\n",
    "    index=np.sort(y.unique()), \n",
    "    columns=np.sort(y.unique()))\n",
    "\n",
    "sns.heatmap(conf_mat_props, annot=True);"
   ]
  },
  {
   "cell_type": "code",
   "execution_count": 74,
   "metadata": {},
   "outputs": [
    {
     "data": {
      "text/plain": [
       "1.2857142857142858"
      ]
     },
     "execution_count": 74,
     "metadata": {},
     "output_type": "execute_result"
    }
   ],
   "source": [
    "conf_mat_props.apply(lambda x: (x == 0).sum()).mean()"
   ]
  },
  {
   "cell_type": "markdown",
   "metadata": {},
   "source": [
    "Clearly lots of items are getting mistaken as belonging to the Packaged Grocery category.  This is not surprising as Packaged Grocery is a relatively generic catgory that likely captures other categories."
   ]
  },
  {
   "cell_type": "markdown",
   "metadata": {},
   "source": [
    "#### Learning Curve"
   ]
  },
  {
   "cell_type": "code",
   "execution_count": 54,
   "metadata": {},
   "outputs": [
    {
     "data": {
      "image/png": "[encoded data removed]",
      "text/plain": [
       "<Figure size 432x288 with 1 Axes>"
      ]
     },
     "metadata": {},
     "output_type": "display_data"
    }
   ],
   "source": [
    "# Plot the learning curve\n",
    "plot_learning_curve(knn_model.get_model_pipeline(), 'KNN Learning Curve', X, y, cv=CV, n_jobs=-1);"
   ]
  },
  {
   "cell_type": "markdown",
   "metadata": {},
   "source": [
    "The KNN appears to be too complex given the number of training examples."
   ]
  }
 ],
 "metadata": {
  "kernelspec": {
   "display_name": "Python 3",
   "language": "python",
   "name": "python3"
  },
  "language_info": {
   "codemirror_mode": {
    "name": "ipython",
    "version": 3
   },
   "file_extension": ".py",
   "mimetype": "text/x-python",
   "name": "python",
   "nbconvert_exporter": "python",
   "pygments_lexer": "ipython3",
   "version": "3.5.5"
  }
 },
 "nbformat": 4,
 "nbformat_minor": 2
}
