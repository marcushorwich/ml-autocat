{
 "cells": [
  {
   "cell_type": "code",
   "execution_count": 65,
   "metadata": {},
   "outputs": [],
   "source": [
    "from sklearn.pipeline import Pipeline, make_pipeline\n",
    "from sklearn.preprocessing import StandardScaler"
   ]
  },
  {
   "cell_type": "code",
   "execution_count": 66,
   "metadata": {},
   "outputs": [
    {
     "name": "stdout",
     "output_type": "stream",
     "text": [
      "The autoreload extension is already loaded. To reload it, use:\n",
      "  %reload_ext autoreload\n"
     ]
    }
   ],
   "source": [
    "%load_ext autoreload\n",
    "%autoreload 2\n",
    "import sys, os\n",
    "sys.path.insert(1, os.path.join(sys.path[0], '..'))"
   ]
  },
  {
   "cell_type": "code",
   "execution_count": 67,
   "metadata": {},
   "outputs": [],
   "source": [
    "from autocat.data.datasets import get_project_data, get_stratified_train_test_split"
   ]
  },
  {
   "cell_type": "code",
   "execution_count": 54,
   "metadata": {},
   "outputs": [
    {
     "data": {
      "text/html": [
       "<div>\n",
       "<style scoped>\n",
       "    .dataframe tbody tr th:only-of-type {\n",
       "        vertical-align: middle;\n",
       "    }\n",
       "\n",
       "    .dataframe tbody tr th {\n",
       "        vertical-align: top;\n",
       "    }\n",
       "\n",
       "    .dataframe thead th {\n",
       "        text-align: right;\n",
       "    }\n",
       "</style>\n",
       "<table border=\"1\" class=\"dataframe\">\n",
       "  <thead>\n",
       "    <tr style=\"text-align: right;\">\n",
       "      <th></th>\n",
       "      <th>UniversalProductCode</th>\n",
       "      <th>AvgUnitsShipped</th>\n",
       "      <th>StdUnitsShipped</th>\n",
       "      <th>MinUnitsShipped</th>\n",
       "      <th>MaxUnitsShipped</th>\n",
       "      <th>AvgNetAmount</th>\n",
       "      <th>StdNetAmount</th>\n",
       "      <th>MinNetAmount</th>\n",
       "      <th>MaxNetAmount</th>\n",
       "      <th>NumberOfTransactions</th>\n",
       "      <th>NumberOfTransactionDays</th>\n",
       "      <th>GLCategory</th>\n",
       "    </tr>\n",
       "  </thead>\n",
       "  <tbody>\n",
       "    <tr>\n",
       "      <th>0</th>\n",
       "      <td>69765869205</td>\n",
       "      <td>1.000000</td>\n",
       "      <td>0.000000</td>\n",
       "      <td>1.0</td>\n",
       "      <td>1.0</td>\n",
       "      <td>37.183750</td>\n",
       "      <td>2.495539</td>\n",
       "      <td>34.92</td>\n",
       "      <td>40.50</td>\n",
       "      <td>8</td>\n",
       "      <td>8</td>\n",
       "      <td>Packaged Grocery</td>\n",
       "    </tr>\n",
       "    <tr>\n",
       "      <th>1</th>\n",
       "      <td>2250613410</td>\n",
       "      <td>1.145454</td>\n",
       "      <td>0.573699</td>\n",
       "      <td>1.0</td>\n",
       "      <td>6.0</td>\n",
       "      <td>35.645381</td>\n",
       "      <td>8.054258</td>\n",
       "      <td>0.00</td>\n",
       "      <td>76.20</td>\n",
       "      <td>275</td>\n",
       "      <td>174</td>\n",
       "      <td>Packaged Grocery</td>\n",
       "    </tr>\n",
       "    <tr>\n",
       "      <th>2</th>\n",
       "      <td>85688520009</td>\n",
       "      <td>4.336294</td>\n",
       "      <td>4.418702</td>\n",
       "      <td>0.0</td>\n",
       "      <td>36.0</td>\n",
       "      <td>8.962798</td>\n",
       "      <td>9.049392</td>\n",
       "      <td>0.00</td>\n",
       "      <td>79.56</td>\n",
       "      <td>1576</td>\n",
       "      <td>264</td>\n",
       "      <td>Body Care</td>\n",
       "    </tr>\n",
       "    <tr>\n",
       "      <th>3</th>\n",
       "      <td>89477300104</td>\n",
       "      <td>1.343834</td>\n",
       "      <td>0.910368</td>\n",
       "      <td>0.0</td>\n",
       "      <td>20.0</td>\n",
       "      <td>19.427881</td>\n",
       "      <td>13.187472</td>\n",
       "      <td>0.00</td>\n",
       "      <td>231.40</td>\n",
       "      <td>3682</td>\n",
       "      <td>290</td>\n",
       "      <td>Packaged Grocery</td>\n",
       "    </tr>\n",
       "    <tr>\n",
       "      <th>4</th>\n",
       "      <td>25317775304</td>\n",
       "      <td>1.579902</td>\n",
       "      <td>1.617614</td>\n",
       "      <td>-3.0</td>\n",
       "      <td>26.0</td>\n",
       "      <td>72.828589</td>\n",
       "      <td>68.665828</td>\n",
       "      <td>-123.66</td>\n",
       "      <td>1071.72</td>\n",
       "      <td>1531</td>\n",
       "      <td>237</td>\n",
       "      <td>Meat</td>\n",
       "    </tr>\n",
       "  </tbody>\n",
       "</table>\n",
       "</div>"
      ],
      "text/plain": [
       "  UniversalProductCode  AvgUnitsShipped  StdUnitsShipped  MinUnitsShipped  \\\n",
       "0          69765869205         1.000000         0.000000              1.0   \n",
       "1           2250613410         1.145454         0.573699              1.0   \n",
       "2          85688520009         4.336294         4.418702              0.0   \n",
       "3          89477300104         1.343834         0.910368              0.0   \n",
       "4          25317775304         1.579902         1.617614             -3.0   \n",
       "\n",
       "   MaxUnitsShipped  AvgNetAmount  StdNetAmount  MinNetAmount  MaxNetAmount  \\\n",
       "0              1.0     37.183750      2.495539         34.92         40.50   \n",
       "1              6.0     35.645381      8.054258          0.00         76.20   \n",
       "2             36.0      8.962798      9.049392          0.00         79.56   \n",
       "3             20.0     19.427881     13.187472          0.00        231.40   \n",
       "4             26.0     72.828589     68.665828       -123.66       1071.72   \n",
       "\n",
       "   NumberOfTransactions  NumberOfTransactionDays        GLCategory  \n",
       "0                     8                        8  Packaged Grocery  \n",
       "1                   275                      174  Packaged Grocery  \n",
       "2                  1576                      264         Body Care  \n",
       "3                  3682                      290  Packaged Grocery  \n",
       "4                  1531                      237              Meat  "
      ]
     },
     "execution_count": 54,
     "metadata": {},
     "output_type": "execute_result"
    }
   ],
   "source": [
    "# Load the feature / label data\n",
    "project_data = get_project_data(include_product_data=False)\n",
    "project_data.head()"
   ]
  },
  {
   "cell_type": "code",
   "execution_count": 68,
   "metadata": {},
   "outputs": [
    {
     "data": {
      "text/plain": [
       "UniversalProductCode        0\n",
       "AvgUnitsShipped             0\n",
       "StdUnitsShipped            63\n",
       "MinUnitsShipped             0\n",
       "MaxUnitsShipped             0\n",
       "AvgNetAmount                0\n",
       "StdNetAmount               63\n",
       "MinNetAmount                0\n",
       "MaxNetAmount                0\n",
       "NumberOfTransactions        0\n",
       "NumberOfTransactionDays     0\n",
       "GLCategory                  0\n",
       "dtype: int64"
      ]
     },
     "execution_count": 68,
     "metadata": {},
     "output_type": "execute_result"
    }
   ],
   "source": [
    "project_data.isnull().sum()"
   ]
  },
  {
   "cell_type": "code",
   "execution_count": 69,
   "metadata": {},
   "outputs": [
    {
     "name": "stdout",
     "output_type": "stream",
     "text": [
      "7071\n"
     ]
    }
   ],
   "source": [
    "print(len(project_data))"
   ]
  },
  {
   "cell_type": "code",
   "execution_count": 70,
   "metadata": {},
   "outputs": [
    {
     "data": {
      "image/png": "[encoded data removed]",
      "text/plain": [
       "<Figure size 432x288 with 1 Axes>"
      ]
     },
     "metadata": {},
     "output_type": "display_data"
    }
   ],
   "source": [
    "project_data.groupby('GLCategory').size().sort_values(ascending=False).plot(kind='bar', color='blue');"
   ]
  },
  {
   "cell_type": "code",
   "execution_count": 71,
   "metadata": {},
   "outputs": [],
   "source": [
    "# Create train / test sets,\n",
    "split_data = get_stratified_train_test_split(project_data)\n",
    "\n",
    "train_df = split_data[0]\n",
    "test_df = split_data[1]"
   ]
  },
  {
   "cell_type": "code",
   "execution_count": 72,
   "metadata": {},
   "outputs": [
    {
     "data": {
      "text/html": [
       "<div>\n",
       "<style scoped>\n",
       "    .dataframe tbody tr th:only-of-type {\n",
       "        vertical-align: middle;\n",
       "    }\n",
       "\n",
       "    .dataframe tbody tr th {\n",
       "        vertical-align: top;\n",
       "    }\n",
       "\n",
       "    .dataframe thead th {\n",
       "        text-align: right;\n",
       "    }\n",
       "</style>\n",
       "<table border=\"1\" class=\"dataframe\">\n",
       "  <thead>\n",
       "    <tr style=\"text-align: right;\">\n",
       "      <th></th>\n",
       "      <th>AvgUnitsShipped</th>\n",
       "      <th>StdUnitsShipped</th>\n",
       "      <th>MinUnitsShipped</th>\n",
       "      <th>MaxUnitsShipped</th>\n",
       "      <th>AvgNetAmount</th>\n",
       "      <th>StdNetAmount</th>\n",
       "      <th>MinNetAmount</th>\n",
       "      <th>MaxNetAmount</th>\n",
       "      <th>NumberOfTransactions</th>\n",
       "      <th>NumberOfTransactionDays</th>\n",
       "      <th>GLCategory</th>\n",
       "    </tr>\n",
       "  </thead>\n",
       "  <tbody>\n",
       "    <tr>\n",
       "      <th>677</th>\n",
       "      <td>1.018181</td>\n",
       "      <td>0.195270</td>\n",
       "      <td>0.0</td>\n",
       "      <td>4.0</td>\n",
       "      <td>50.620929</td>\n",
       "      <td>10.015416</td>\n",
       "      <td>0.00</td>\n",
       "      <td>203.84</td>\n",
       "      <td>495</td>\n",
       "      <td>218</td>\n",
       "      <td>Frozen</td>\n",
       "    </tr>\n",
       "    <tr>\n",
       "      <th>4971</th>\n",
       "      <td>0.993097</td>\n",
       "      <td>0.334028</td>\n",
       "      <td>0.0</td>\n",
       "      <td>8.0</td>\n",
       "      <td>18.981970</td>\n",
       "      <td>6.503373</td>\n",
       "      <td>0.00</td>\n",
       "      <td>156.16</td>\n",
       "      <td>3477</td>\n",
       "      <td>290</td>\n",
       "      <td>Refrigerated Grocery</td>\n",
       "    </tr>\n",
       "    <tr>\n",
       "      <th>4762</th>\n",
       "      <td>2.088541</td>\n",
       "      <td>1.485281</td>\n",
       "      <td>1.0</td>\n",
       "      <td>13.0</td>\n",
       "      <td>9.058697</td>\n",
       "      <td>6.424840</td>\n",
       "      <td>3.63</td>\n",
       "      <td>53.76</td>\n",
       "      <td>576</td>\n",
       "      <td>236</td>\n",
       "      <td>Vitamins</td>\n",
       "    </tr>\n",
       "    <tr>\n",
       "      <th>3317</th>\n",
       "      <td>1.139293</td>\n",
       "      <td>0.451081</td>\n",
       "      <td>0.0</td>\n",
       "      <td>4.0</td>\n",
       "      <td>22.904033</td>\n",
       "      <td>8.955612</td>\n",
       "      <td>0.00</td>\n",
       "      <td>83.20</td>\n",
       "      <td>481</td>\n",
       "      <td>218</td>\n",
       "      <td>Body Care</td>\n",
       "    </tr>\n",
       "    <tr>\n",
       "      <th>4725</th>\n",
       "      <td>0.877192</td>\n",
       "      <td>0.425532</td>\n",
       "      <td>0.0</td>\n",
       "      <td>2.0</td>\n",
       "      <td>65.888421</td>\n",
       "      <td>31.647992</td>\n",
       "      <td>0.00</td>\n",
       "      <td>139.56</td>\n",
       "      <td>57</td>\n",
       "      <td>46</td>\n",
       "      <td>Packaged Grocery</td>\n",
       "    </tr>\n",
       "  </tbody>\n",
       "</table>\n",
       "</div>"
      ],
      "text/plain": [
       "      AvgUnitsShipped  StdUnitsShipped  MinUnitsShipped  MaxUnitsShipped  \\\n",
       "677          1.018181         0.195270              0.0              4.0   \n",
       "4971         0.993097         0.334028              0.0              8.0   \n",
       "4762         2.088541         1.485281              1.0             13.0   \n",
       "3317         1.139293         0.451081              0.0              4.0   \n",
       "4725         0.877192         0.425532              0.0              2.0   \n",
       "\n",
       "      AvgNetAmount  StdNetAmount  MinNetAmount  MaxNetAmount  \\\n",
       "677      50.620929     10.015416          0.00        203.84   \n",
       "4971     18.981970      6.503373          0.00        156.16   \n",
       "4762      9.058697      6.424840          3.63         53.76   \n",
       "3317     22.904033      8.955612          0.00         83.20   \n",
       "4725     65.888421     31.647992          0.00        139.56   \n",
       "\n",
       "      NumberOfTransactions  NumberOfTransactionDays            GLCategory  \n",
       "677                    495                      218                Frozen  \n",
       "4971                  3477                      290  Refrigerated Grocery  \n",
       "4762                   576                      236              Vitamins  \n",
       "3317                   481                      218             Body Care  \n",
       "4725                    57                       46      Packaged Grocery  "
      ]
     },
     "execution_count": 72,
     "metadata": {},
     "output_type": "execute_result"
    }
   ],
   "source": [
    "train_df.head()"
   ]
  },
  {
   "cell_type": "code",
   "execution_count": 83,
   "metadata": {},
   "outputs": [
    {
     "data": {
      "text/plain": [
       "UniversalProductCode       4227200373\n",
       "AvgUnitsShipped               1.01818\n",
       "StdUnitsShipped               0.19527\n",
       "MinUnitsShipped                     0\n",
       "MaxUnitsShipped                     4\n",
       "AvgNetAmount                  50.6209\n",
       "StdNetAmount                  10.0154\n",
       "MinNetAmount                        0\n",
       "MaxNetAmount                   203.84\n",
       "NumberOfTransactions              495\n",
       "NumberOfTransactionDays           218\n",
       "GLCategory                     Frozen\n",
       "Name: 677, dtype: object"
      ]
     },
     "execution_count": 83,
     "metadata": {},
     "output_type": "execute_result"
    }
   ],
   "source": [
    "project_data.iloc[677]"
   ]
  },
  {
   "cell_type": "code",
   "execution_count": 74,
   "metadata": {},
   "outputs": [
    {
     "data": {
      "text/plain": [
       "AvgUnitsShipped             0\n",
       "StdUnitsShipped            46\n",
       "MinUnitsShipped             0\n",
       "MaxUnitsShipped             0\n",
       "AvgNetAmount                0\n",
       "StdNetAmount               46\n",
       "MinNetAmount                0\n",
       "MaxNetAmount                0\n",
       "NumberOfTransactions        0\n",
       "NumberOfTransactionDays     0\n",
       "GLCategory                  0\n",
       "dtype: int64"
      ]
     },
     "execution_count": 74,
     "metadata": {},
     "output_type": "execute_result"
    }
   ],
   "source": [
    "train_df.isnull().sum()"
   ]
  },
  {
   "cell_type": "code",
   "execution_count": 75,
   "metadata": {},
   "outputs": [
    {
     "name": "stdout",
     "output_type": "stream",
     "text": [
      "5656\n"
     ]
    }
   ],
   "source": [
    "print(len(train_df))"
   ]
  },
  {
   "cell_type": "code",
   "execution_count": 60,
   "metadata": {},
   "outputs": [
    {
     "data": {
      "text/html": [
       "<div>\n",
       "<style scoped>\n",
       "    .dataframe tbody tr th:only-of-type {\n",
       "        vertical-align: middle;\n",
       "    }\n",
       "\n",
       "    .dataframe tbody tr th {\n",
       "        vertical-align: top;\n",
       "    }\n",
       "\n",
       "    .dataframe thead th {\n",
       "        text-align: right;\n",
       "    }\n",
       "</style>\n",
       "<table border=\"1\" class=\"dataframe\">\n",
       "  <thead>\n",
       "    <tr style=\"text-align: right;\">\n",
       "      <th></th>\n",
       "      <th>AvgUnitsShipped</th>\n",
       "      <th>StdUnitsShipped</th>\n",
       "      <th>MinUnitsShipped</th>\n",
       "      <th>MaxUnitsShipped</th>\n",
       "      <th>AvgNetAmount</th>\n",
       "      <th>StdNetAmount</th>\n",
       "      <th>MinNetAmount</th>\n",
       "      <th>MaxNetAmount</th>\n",
       "      <th>NumberOfTransactions</th>\n",
       "      <th>NumberOfTransactionDays</th>\n",
       "      <th>GLCategory</th>\n",
       "    </tr>\n",
       "  </thead>\n",
       "  <tbody>\n",
       "    <tr>\n",
       "      <th>2740</th>\n",
       "      <td>1.213592</td>\n",
       "      <td>0.734102</td>\n",
       "      <td>0.0</td>\n",
       "      <td>10.0</td>\n",
       "      <td>33.248834</td>\n",
       "      <td>19.471478</td>\n",
       "      <td>0.0</td>\n",
       "      <td>273.90</td>\n",
       "      <td>2266</td>\n",
       "      <td>268</td>\n",
       "      <td>Frozen</td>\n",
       "    </tr>\n",
       "    <tr>\n",
       "      <th>3207</th>\n",
       "      <td>0.887323</td>\n",
       "      <td>0.946053</td>\n",
       "      <td>0.0</td>\n",
       "      <td>8.0</td>\n",
       "      <td>15.366619</td>\n",
       "      <td>19.967595</td>\n",
       "      <td>0.0</td>\n",
       "      <td>164.32</td>\n",
       "      <td>142</td>\n",
       "      <td>98</td>\n",
       "      <td>Packaged Grocery</td>\n",
       "    </tr>\n",
       "    <tr>\n",
       "      <th>5198</th>\n",
       "      <td>2.691275</td>\n",
       "      <td>1.267576</td>\n",
       "      <td>0.0</td>\n",
       "      <td>6.0</td>\n",
       "      <td>11.708926</td>\n",
       "      <td>5.507259</td>\n",
       "      <td>0.0</td>\n",
       "      <td>25.86</td>\n",
       "      <td>149</td>\n",
       "      <td>113</td>\n",
       "      <td>Packaged Grocery</td>\n",
       "    </tr>\n",
       "    <tr>\n",
       "      <th>2481</th>\n",
       "      <td>3.131826</td>\n",
       "      <td>4.040205</td>\n",
       "      <td>0.0</td>\n",
       "      <td>122.0</td>\n",
       "      <td>27.349972</td>\n",
       "      <td>35.054423</td>\n",
       "      <td>0.0</td>\n",
       "      <td>1057.74</td>\n",
       "      <td>2875</td>\n",
       "      <td>284</td>\n",
       "      <td>Body Care</td>\n",
       "    </tr>\n",
       "    <tr>\n",
       "      <th>1024</th>\n",
       "      <td>1.337686</td>\n",
       "      <td>0.908813</td>\n",
       "      <td>0.0</td>\n",
       "      <td>8.0</td>\n",
       "      <td>12.781902</td>\n",
       "      <td>8.643699</td>\n",
       "      <td>0.0</td>\n",
       "      <td>76.00</td>\n",
       "      <td>536</td>\n",
       "      <td>218</td>\n",
       "      <td>Body Care</td>\n",
       "    </tr>\n",
       "  </tbody>\n",
       "</table>\n",
       "</div>"
      ],
      "text/plain": [
       "      AvgUnitsShipped  StdUnitsShipped  MinUnitsShipped  MaxUnitsShipped  \\\n",
       "2740         1.213592         0.734102              0.0             10.0   \n",
       "3207         0.887323         0.946053              0.0              8.0   \n",
       "5198         2.691275         1.267576              0.0              6.0   \n",
       "2481         3.131826         4.040205              0.0            122.0   \n",
       "1024         1.337686         0.908813              0.0              8.0   \n",
       "\n",
       "      AvgNetAmount  StdNetAmount  MinNetAmount  MaxNetAmount  \\\n",
       "2740     33.248834     19.471478           0.0        273.90   \n",
       "3207     15.366619     19.967595           0.0        164.32   \n",
       "5198     11.708926      5.507259           0.0         25.86   \n",
       "2481     27.349972     35.054423           0.0       1057.74   \n",
       "1024     12.781902      8.643699           0.0         76.00   \n",
       "\n",
       "      NumberOfTransactions  NumberOfTransactionDays        GLCategory  \n",
       "2740                  2266                      268            Frozen  \n",
       "3207                   142                       98  Packaged Grocery  \n",
       "5198                   149                      113  Packaged Grocery  \n",
       "2481                  2875                      284         Body Care  \n",
       "1024                   536                      218         Body Care  "
      ]
     },
     "execution_count": 60,
     "metadata": {},
     "output_type": "execute_result"
    }
   ],
   "source": [
    "test_df.head()"
   ]
  },
  {
   "cell_type": "code",
   "execution_count": 76,
   "metadata": {},
   "outputs": [
    {
     "data": {
      "text/plain": [
       "AvgUnitsShipped             0\n",
       "StdUnitsShipped            17\n",
       "MinUnitsShipped             0\n",
       "MaxUnitsShipped             0\n",
       "AvgNetAmount                0\n",
       "StdNetAmount               17\n",
       "MinNetAmount                0\n",
       "MaxNetAmount                0\n",
       "NumberOfTransactions        0\n",
       "NumberOfTransactionDays     0\n",
       "GLCategory                  0\n",
       "dtype: int64"
      ]
     },
     "execution_count": 76,
     "metadata": {},
     "output_type": "execute_result"
    }
   ],
   "source": [
    "test_df.isnull().sum()"
   ]
  },
  {
   "cell_type": "code",
   "execution_count": 77,
   "metadata": {},
   "outputs": [
    {
     "name": "stdout",
     "output_type": "stream",
     "text": [
      "1415\n"
     ]
    }
   ],
   "source": [
    "print(len(test_df))"
   ]
  },
  {
   "cell_type": "code",
   "execution_count": 78,
   "metadata": {},
   "outputs": [
    {
     "name": "stdout",
     "output_type": "stream",
     "text": [
      "Difference in training target proportions\n",
      "=========================================\n",
      "GLCategory\n",
      "Body Care               0.000047\n",
      "Frozen                 -0.000078\n",
      "Meat                   -0.000073\n",
      "Packaged Grocery       -0.000005\n",
      "Packaged Tea            0.000030\n",
      "Refrigerated Grocery    0.000020\n",
      "Vitamins                0.000059\n",
      "dtype: float64\n",
      "Difference in test target proportions\n",
      "=====================================\n",
      "GLCategory\n",
      "Body Care              -0.000188\n",
      "Frozen                  0.000314\n",
      "Meat                    0.000293\n",
      "Packaged Grocery        0.000020\n",
      "Packaged Tea           -0.000119\n",
      "Refrigerated Grocery   -0.000081\n",
      "Vitamins               -0.000238\n",
      "dtype: float64\n"
     ]
    }
   ],
   "source": [
    "original = project_data.groupby(TARGET_COLUMN).size() / len(project_data)\n",
    "train = train_df.groupby(TARGET_COLUMN).size() / len(train_df)\n",
    "test = test_df.groupby(TARGET_COLUMN).size() / len(test_df)\n",
    "\n",
    "print(\"Difference in training target proportions\")\n",
    "print(\"=========================================\")\n",
    "print(original - train)\n",
    "print(\"Difference in test target proportions\")\n",
    "print(\"=====================================\")\n",
    "print(original - test)"
   ]
  },
  {
   "cell_type": "code",
   "execution_count": 82,
   "metadata": {},
   "outputs": [],
   "source": [
    "# Save the train / test sets\n",
    "train_df.reset_index().to_csv('../data/processed/train_2018-08-24.csv', index=False)\n",
    "test_df.reset_index().to_csv('../data/processed/test_2018-08-24.csv', index=False)"
   ]
  }
 ],
 "metadata": {
  "kernelspec": {
   "display_name": "Python 3",
   "language": "python",
   "name": "python3"
  },
  "language_info": {
   "codemirror_mode": {
    "name": "ipython",
    "version": 3
   },
   "file_extension": ".py",
   "mimetype": "text/x-python",
   "name": "python",
   "nbconvert_exporter": "python",
   "pygments_lexer": "ipython3",
   "version": "3.5.5"
  }
 },
 "nbformat": 4,
 "nbformat_minor": 2
}
