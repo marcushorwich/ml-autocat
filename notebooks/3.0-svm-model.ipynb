{
 "cells": [
  {
   "cell_type": "code",
   "execution_count": 28,
   "metadata": {},
   "outputs": [
    {
     "name": "stdout",
     "output_type": "stream",
     "text": [
      "The autoreload extension is already loaded. To reload it, use:\n",
      "  %reload_ext autoreload\n"
     ]
    }
   ],
   "source": [
    "%load_ext autoreload\n",
    "%autoreload 2\n",
    "import sys, os\n",
    "sys.path.insert(1, os.path.join(sys.path[0], '..'))"
   ]
  },
  {
   "cell_type": "code",
   "execution_count": 59,
   "metadata": {},
   "outputs": [],
   "source": [
    "import pandas as pd\n",
    "import matplotlib.pyplot as plt\n",
    "import seaborn as sns\n",
    "import numpy as np\n",
    "%matplotlib inline\n",
    "\n",
    "# Pipeline\n",
    "from sklearn.pipeline import Pipeline, make_pipeline\n",
    "from sklearn.preprocessing import StandardScaler\n",
    "from sklearn.metrics import make_scorer, f1_score, classification_report, confusion_matrix\n",
    "from sklearn.externals import joblib\n",
    "from sklearn.model_selection import cross_val_score, cross_val_predict, train_test_split\n",
    "\n",
    "# Algorithms\n",
    "from sklearn.svm import SVC\n",
    "\n",
    "# Internal\n",
    "from autocat.data.datasets import get_training_data\n",
    "from autocat.data.features import CombinedFeatureAdder, feature_transactions_per_day, PandasDataFrameTransformer\n",
    "from autocat.data.filters import FeatureFilters, no_null_StdUnitsShipped_StdNetAmount\n",
    "from autocat.models import GridSearchModel, Model\n",
    "from autocat.models.evaluation import evaluate, plot_learning_curve, get_scorer\n",
    "from autocat.models.pipelines import get_scaled_pipeline_v1"
   ]
  },
  {
   "cell_type": "markdown",
   "metadata": {},
   "source": [
    "## Pipeline"
   ]
  },
  {
   "cell_type": "code",
   "execution_count": 33,
   "metadata": {},
   "outputs": [],
   "source": [
    "TRAINING_DATA = '../data/processed/train_2018-08-24.csv'\n",
    "\n",
    "# Create feaure matrix and label vector\n",
    "X, y = get_training_data(TRAINING_DATA, [\n",
    "    no_null_StdUnitsShipped_StdNetAmount\n",
    "], drop_na=True)"
   ]
  },
  {
   "cell_type": "code",
   "execution_count": 35,
   "metadata": {},
   "outputs": [
    {
     "name": "stdout",
     "output_type": "stream",
     "text": [
      "Pipeline(memory=None,\n",
      "     steps=[('feaure_transactions_per_day', CombinedFeatureAdder(attribute_fn=<function feature_transactions_per_day at 0x1139637b8>)), ('std_scaler', StandardScaler(copy=True, with_mean=True, with_std=True)), ('data_frame', PandasDataFrameTransformer(columns=['AvgUnitsShipped', 'StdUnitsShipped', 'MinUnitsShipped', 'MaxUnitsShipped', 'AvgNetAmount', 'StdNetAmount', 'MinNetAmount', 'MaxNetAmount', 'NumberOfTransactions', 'NumberOfTransactionDays', 'TransactionsPerDay']))])\n"
     ]
    }
   ],
   "source": [
    "# Get the scaled pipeline\n",
    "pipeline = get_scaled_pipeline_v1(X)\n",
    "print(pipeline)"
   ]
  },
  {
   "cell_type": "code",
   "execution_count": 37,
   "metadata": {},
   "outputs": [
    {
     "name": "stdout",
     "output_type": "stream",
     "text": [
      "Training instances: 5610\n"
     ]
    }
   ],
   "source": [
    "print('Training instances:', len(X))"
   ]
  },
  {
   "cell_type": "markdown",
   "metadata": {},
   "source": [
    "## Model"
   ]
  },
  {
   "cell_type": "code",
   "execution_count": 38,
   "metadata": {},
   "outputs": [],
   "source": [
    "# Create the parameter grid\n",
    "param_grid = [\n",
    "    {\n",
    "        'svm__gamma': [0.001, 0.01, 0.05, 0.1, 1, 10, 100], \n",
    "        'svm__C': [.01, .1, 1., 10, 50, 100, 110, 125],\n",
    "    }\n",
    "]"
   ]
  },
  {
   "cell_type": "code",
   "execution_count": 39,
   "metadata": {},
   "outputs": [],
   "source": [
    "# Train a model using grid search\n",
    "# scorer = make_scorer(f1_score, average='micro')\n",
    "# svm_model = GridSearchModel(param_grid, name='svm', model=SVC(), pipeline=pipeline)\n",
    "# svm_model.train(X, y, 10, scorer)"
   ]
  },
  {
   "cell_type": "code",
   "execution_count": 41,
   "metadata": {},
   "outputs": [
    {
     "name": "stdout",
     "output_type": "stream",
     "text": [
      "Existing model spec:\n",
      " SVC(C=125, cache_size=200, class_weight=None, coef0=0.0,\n",
      "  decision_function_shape='ovr', degree=3, gamma=0.1, kernel='rbf',\n",
      "  max_iter=-1, probability=False, random_state=None, shrinking=True,\n",
      "  tol=0.001, verbose=False)\n"
     ]
    }
   ],
   "source": [
    "# Create existing model\n",
    "model_base = SVC(C=125, cache_size=200, class_weight=None, coef0=0.0,\n",
    "  decision_function_shape='ovr', degree=3, gamma=0.1, kernel='rbf',\n",
    "  max_iter=-1, probability=False, random_state=None, shrinking=True,\n",
    "  tol=0.001, verbose=False)\n",
    "model = Model('svm', model_base, pipeline).fit(X, y)\n",
    "print('Existing model spec:\\n', model.model)"
   ]
  },
  {
   "cell_type": "code",
   "execution_count": 42,
   "metadata": {},
   "outputs": [],
   "source": [
    "# Last model:\n",
    "    \n",
    "# SVC(C=125, cache_size=200, class_weight=None, coef0=0.0,\n",
    "#   decision_function_shape='ovr', degree=3, gamma=0.1, kernel='rbf',\n",
    "#   max_iter=-1, probability=False, random_state=None, shrinking=True,\n",
    "#   tol=0.001, verbose=False)"
   ]
  },
  {
   "cell_type": "markdown",
   "metadata": {},
   "source": [
    "## Evaluation"
   ]
  },
  {
   "cell_type": "code",
   "execution_count": 43,
   "metadata": {},
   "outputs": [],
   "source": [
    "X_transformed = model.pipeline.fit_transform(X)\n",
    "model_predictions = model.model.predict(X_transformed)"
   ]
  },
  {
   "cell_type": "markdown",
   "metadata": {},
   "source": [
    "#### Training Set"
   ]
  },
  {
   "cell_type": "code",
   "execution_count": 55,
   "metadata": {},
   "outputs": [
    {
     "name": "stdout",
     "output_type": "stream",
     "text": [
      "Score: 0.7395721925133689\n",
      "                      precision    recall  f1-score   support\n",
      "\n",
      "           Body Care       0.75      0.79      0.77       936\n",
      "              Frozen       0.95      0.06      0.11       308\n",
      "                Meat       1.00      0.74      0.85       102\n",
      "    Packaged Grocery       0.73      0.96      0.83      3005\n",
      "        Packaged Tea       1.00      0.05      0.10       222\n",
      "Refrigerated Grocery       0.78      0.46      0.58       595\n",
      "            Vitamins       0.70      0.36      0.47       442\n",
      "\n",
      "         avg / total       0.76      0.74      0.70      5610\n",
      "\n"
     ]
    }
   ],
   "source": [
    "scorer = get_scorer()\n",
    "results = model.score(X, y, scorer)\n",
    "print('Score:', results[0])\n",
    "print(classification_report(y, results[1]))"
   ]
  },
  {
   "cell_type": "markdown",
   "metadata": {},
   "source": [
    "#### Cross Validation"
   ]
  },
  {
   "cell_type": "code",
   "execution_count": 56,
   "metadata": {},
   "outputs": [],
   "source": [
    "CV=10"
   ]
  },
  {
   "cell_type": "code",
   "execution_count": 57,
   "metadata": {},
   "outputs": [
    {
     "name": "stdout",
     "output_type": "stream",
     "text": [
      "0.6994652406417112\n",
      "                      precision    recall  f1-score   support\n",
      "\n",
      "           Body Care       0.70      0.75      0.73       936\n",
      "              Frozen       0.12      0.01      0.02       308\n",
      "                Meat       0.84      0.58      0.69       102\n",
      "    Packaged Grocery       0.71      0.93      0.80      3005\n",
      "        Packaged Tea       0.36      0.02      0.03       222\n",
      "Refrigerated Grocery       0.72      0.40      0.51       595\n",
      "            Vitamins       0.55      0.26      0.36       442\n",
      "\n",
      "         avg / total       0.65      0.70      0.65      5610\n",
      "\n"
     ]
    }
   ],
   "source": [
    "cv_predictions = cross_val_predict(model.get_model_pipeline(), X, y, cv=CV)\n",
    "print(f1_score(y, cv_predictions, average='micro'))\n",
    "print(classification_report(y, cv_predictions))"
   ]
  },
  {
   "cell_type": "markdown",
   "metadata": {},
   "source": [
    "The SVM model performs well for:\n",
    "* Body Care\n",
    "* Meat\n",
    "* Packaged Grocery\n",
    "\n",
    "\n",
    "The KNN model performs  slightly better overall but the SVM performs better (w.r.t. precision) on Refigerated Grocery and Packaged Tea."
   ]
  },
  {
   "cell_type": "markdown",
   "metadata": {},
   "source": [
    "#### Confusion Matrix"
   ]
  },
  {
   "cell_type": "code",
   "execution_count": 60,
   "metadata": {},
   "outputs": [
    {
     "data": {
      "image/png": "[encoded data removed]",
      "text/plain": [
       "<Figure size 432x288 with 2 Axes>"
      ]
     },
     "metadata": {},
     "output_type": "display_data"
    }
   ],
   "source": [
    "conf_mat = confusion_matrix(y, cv_predictions, labels=np.sort(y.unique()))\n",
    "conf_mat_df = pd.DataFrame(\n",
    "    conf_mat, \n",
    "    index=np.sort(y.unique()), \n",
    "    columns=np.sort(y.unique()))\n",
    "\n",
    "conf_mat_props = pd.DataFrame(\n",
    "    conf_mat_df.values / conf_mat_df.sum(axis=1)[:,None],\n",
    "    index=np.sort(y.unique()), \n",
    "    columns=np.sort(y.unique()))\n",
    "\n",
    "sns.heatmap(conf_mat_props, annot=True);"
   ]
  },
  {
   "cell_type": "code",
   "execution_count": 61,
   "metadata": {},
   "outputs": [
    {
     "data": {
      "text/plain": [
       "1.7142857142857142"
      ]
     },
     "execution_count": 61,
     "metadata": {},
     "output_type": "execute_result"
    }
   ],
   "source": [
    "conf_mat_props.apply(lambda x: (x == 0).sum()).mean()"
   ]
  },
  {
   "cell_type": "markdown",
   "metadata": {},
   "source": [
    "This confusion matrix has more zero-valued entries per category than the KNN model indicating that the SVM model is doing a better job at reducing false negatives."
   ]
  },
  {
   "cell_type": "markdown",
   "metadata": {},
   "source": [
    "#### Learning Curve"
   ]
  },
  {
   "cell_type": "code",
   "execution_count": 63,
   "metadata": {},
   "outputs": [
    {
     "data": {
      "image/png": "[encoded data removed]",
      "text/plain": [
       "<Figure size 432x288 with 1 Axes>"
      ]
     },
     "metadata": {},
     "output_type": "display_data"
    }
   ],
   "source": [
    "# Plot the learning curve\n",
    "plot_learning_curve(model.get_model_pipeline(), 'SVM Learning Curve', X, y, cv=CV);"
   ]
  },
  {
   "cell_type": "markdown",
   "metadata": {},
   "source": [
    "The model appears to be suffering from high variance."
   ]
  },
  {
   "cell_type": "code",
   "execution_count": 67,
   "metadata": {},
   "outputs": [],
   "source": [
    "Model.save(model.model, '../models/svm-2018-08-24.model')"
   ]
  }
 ],
 "metadata": {
  "kernelspec": {
   "display_name": "Python 3",
   "language": "python",
   "name": "python3"
  },
  "language_info": {
   "codemirror_mode": {
    "name": "ipython",
    "version": 3
   },
   "file_extension": ".py",
   "mimetype": "text/x-python",
   "name": "python",
   "nbconvert_exporter": "python",
   "pygments_lexer": "ipython3",
   "version": "3.5.5"
  }
 },
 "nbformat": 4,
 "nbformat_minor": 2
}
