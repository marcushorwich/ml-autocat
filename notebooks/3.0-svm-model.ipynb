{
 "cells": [
  {
   "cell_type": "code",
   "execution_count": 299,
   "metadata": {},
   "outputs": [
    {
     "name": "stdout",
     "output_type": "stream",
     "text": [
      "The autoreload extension is already loaded. To reload it, use:\n",
      "  %reload_ext autoreload\n"
     ]
    }
   ],
   "source": [
    "%load_ext autoreload\n",
    "%autoreload 2"
   ]
  },
  {
   "cell_type": "code",
   "execution_count": 300,
   "metadata": {},
   "outputs": [],
   "source": [
    "import sys, os\n",
    "sys.path.insert(1, os.path.join(sys.path[0], '..'))"
   ]
  },
  {
   "cell_type": "code",
   "execution_count": 301,
   "metadata": {},
   "outputs": [],
   "source": [
    "import pandas as pd\n",
    "import matplotlib.pyplot as plt\n",
    "import seaborn as sns\n",
    "%matplotlib inline\n",
    "\n",
    "# Pipeline\n",
    "from sklearn.pipeline import Pipeline, make_pipeline\n",
    "from sklearn.preprocessing import StandardScaler\n",
    "from sklearn.metrics import make_scorer, f1_score, classification_report, confusion_matrix\n",
    "from sklearn.externals import joblib\n",
    "from sklearn.model_selection import cross_val_score, cross_val_predict, train_test_split\n",
    "\n",
    "# Algorithms\n",
    "from sklearn.svm import SVC\n",
    "\n",
    "# Internal\n",
    "from autocat.data.datasets import get_training_data\n",
    "from autocat.data.features import CombinedFeatureAdder, feature_transactions_per_day, PandasDataFrameTransformer\n",
    "from autocat.data.filters import FeatureFilters, no_null_StdUnitsShipped_StdNetAmount\n",
    "from autocat.models import GridSearchModel, Model\n",
    "from autocat.models.evaluation import evaluate, plot_learning_curve"
   ]
  },
  {
   "cell_type": "code",
   "execution_count": 255,
   "metadata": {},
   "outputs": [],
   "source": [
    "TRAINING_DATA = '../data/processed/train_2018-08-24.csv'"
   ]
  },
  {
   "cell_type": "markdown",
   "metadata": {},
   "source": [
    "## Pipeline"
   ]
  },
  {
   "cell_type": "code",
   "execution_count": 256,
   "metadata": {},
   "outputs": [],
   "source": [
    "# Create feaure matrix and label vector\n",
    "X, y = get_training_data(TRAINING_DATA, [\n",
    "    no_null_StdUnitsShipped_StdNetAmount\n",
    "], drop_na=True)"
   ]
  },
  {
   "cell_type": "code",
   "execution_count": 257,
   "metadata": {},
   "outputs": [],
   "source": [
    "# Create a pipeline to transform the modelling data\n",
    "pipeline = Pipeline([\n",
    "    ('feaure_transactions_per_day', CombinedFeatureAdder(feature_transactions_per_day)),\n",
    "    ('std_scaler', StandardScaler()),\n",
    "    ('data_frame', PandasDataFrameTransformer(list(X.columns) + ['TransactionsPerDay']))\n",
    "])"
   ]
  },
  {
   "cell_type": "code",
   "execution_count": 302,
   "metadata": {},
   "outputs": [
    {
     "name": "stdout",
     "output_type": "stream",
     "text": [
      "Training instances: 6304\n"
     ]
    }
   ],
   "source": [
    "print('Training instances:', len(X))"
   ]
  },
  {
   "cell_type": "markdown",
   "metadata": {},
   "source": [
    "## Model"
   ]
  },
  {
   "cell_type": "code",
   "execution_count": 272,
   "metadata": {},
   "outputs": [],
   "source": [
    "# Create the parameter grid\n",
    "param_grid = [\n",
    "    {\n",
    "        'svm__gamma': [0.001, 0.01, 0.05, 0.1, 1, 10, 100], \n",
    "        'svm__C': [.01, .1, 1., 10, 50, 100, 110, 125],\n",
    "    }\n",
    "]"
   ]
  },
  {
   "cell_type": "code",
   "execution_count": 274,
   "metadata": {},
   "outputs": [],
   "source": [
    "# Train a model using grid search\n",
    "scorer = make_scorer(f1_score, average='micro')\n",
    "svm_model = GridSearchModel('svm', SVC(), param_grid, pipeline)\n",
    "svm_model.train(X, y, 10, scorer)"
   ]
  },
  {
   "cell_type": "code",
   "execution_count": 275,
   "metadata": {},
   "outputs": [
    {
     "data": {
      "text/plain": [
       "SVC(C=125, cache_size=200, class_weight=None, coef0=0.0,\n",
       "  decision_function_shape='ovr', degree=3, gamma=0.1, kernel='rbf',\n",
       "  max_iter=-1, probability=False, random_state=None, shrinking=True,\n",
       "  tol=0.001, verbose=False)"
      ]
     },
     "execution_count": 275,
     "metadata": {},
     "output_type": "execute_result"
    }
   ],
   "source": [
    "svm_model.model"
   ]
  },
  {
   "cell_type": "markdown",
   "metadata": {},
   "source": [
    "## Evaluation"
   ]
  },
  {
   "cell_type": "code",
   "execution_count": 323,
   "metadata": {},
   "outputs": [],
   "source": [
    "X_transformed = model.pipeline.fit_transform(X)\n",
    "model_predictions = model.model.predict(X_transformed)"
   ]
  },
  {
   "cell_type": "markdown",
   "metadata": {},
   "source": [
    "#### Training Set"
   ]
  },
  {
   "cell_type": "code",
   "execution_count": 324,
   "metadata": {},
   "outputs": [
    {
     "name": "stdout",
     "output_type": "stream",
     "text": [
      "                      precision    recall  f1-score   support\n",
      "\n",
      "           Body Care       0.76      0.79      0.78      1050\n",
      "              Frozen       0.94      0.09      0.17       346\n",
      "                Meat       1.00      0.82      0.90       114\n",
      "    Packaged Grocery       0.74      0.95      0.83      3380\n",
      "        Packaged Tea       1.00      0.05      0.10       250\n",
      "Refrigerated Grocery       0.78      0.49      0.60       669\n",
      "            Vitamins       0.69      0.39      0.50       495\n",
      "\n",
      "         avg / total       0.77      0.75      0.71      6304\n",
      "\n"
     ]
    }
   ],
   "source": [
    "# Evaluate the model on the training set\n",
    "scorer = lambda y_true, y_pred: f1_score(y, model_predictions, average='micro')\n",
    "svm_results = evaluate(model, pipeline.fit_transform(X), y, scorer)\n",
    "print(classification_report(svm_results.labels, svm_results.predictions))"
   ]
  },
  {
   "cell_type": "markdown",
   "metadata": {},
   "source": [
    "#### Cross Validation"
   ]
  },
  {
   "cell_type": "code",
   "execution_count": 305,
   "metadata": {},
   "outputs": [],
   "source": [
    "CV=10"
   ]
  },
  {
   "cell_type": "code",
   "execution_count": 304,
   "metadata": {},
   "outputs": [
    {
     "name": "stdout",
     "output_type": "stream",
     "text": [
      "0.6930520304568528\n",
      "                      precision    recall  f1-score   support\n",
      "\n",
      "           Body Care       0.69      0.73      0.71      1050\n",
      "              Frozen       0.28      0.03      0.06       346\n",
      "                Meat       0.75      0.57      0.65       114\n",
      "    Packaged Grocery       0.71      0.92      0.80      3380\n",
      "        Packaged Tea       0.67      0.02      0.03       250\n",
      "Refrigerated Grocery       0.70      0.42      0.53       669\n",
      "            Vitamins       0.49      0.26      0.34       495\n",
      "\n",
      "         avg / total       0.66      0.69      0.65      6304\n",
      "\n"
     ]
    }
   ],
   "source": [
    "cv_predictions = cross_val_predict(svm_model.get_model_pipeline(), X, y, cv=CV)\n",
    "print(f1_score(y, cv_predictions, average='micro'))\n",
    "print(classification_report(y, cv_predictions))"
   ]
  },
  {
   "cell_type": "markdown",
   "metadata": {},
   "source": [
    "The SVM model performs well for:\n",
    "* Body Care\n",
    "* Meat\n",
    "* Packaged Grocery\n",
    "\n",
    "\n",
    "The KNN model performs  slightly better overall but the SVM performs better (w.r.t. precision) on Refigerated Grocery and Packaged Tea."
   ]
  },
  {
   "cell_type": "markdown",
   "metadata": {},
   "source": [
    "#### Confusion Matrix"
   ]
  },
  {
   "cell_type": "code",
   "execution_count": 308,
   "metadata": {},
   "outputs": [
    {
     "data": {
      "image/png": "[encoded data removed]",
      "text/plain": [
       "<Figure size 432x288 with 2 Axes>"
      ]
     },
     "metadata": {},
     "output_type": "display_data"
    }
   ],
   "source": [
    "conf_mat = confusion_matrix(y, cv_predictions, labels=np.sort(y.unique()))\n",
    "conf_mat_df = pd.DataFrame(\n",
    "    conf_mat, \n",
    "    index=np.sort(y.unique()), \n",
    "    columns=np.sort(y.unique()))\n",
    "\n",
    "conf_mat_props = pd.DataFrame(\n",
    "    conf_mat_df.values / conf_mat_df.sum(axis=1)[:,None],\n",
    "    index=np.sort(y.unique()), \n",
    "    columns=np.sort(y.unique()))\n",
    "\n",
    "sns.heatmap(conf_mat_props, annot=True);"
   ]
  },
  {
   "cell_type": "code",
   "execution_count": 322,
   "metadata": {},
   "outputs": [
    {
     "data": {
      "text/plain": [
       "1.5714285714285714"
      ]
     },
     "execution_count": 322,
     "metadata": {},
     "output_type": "execute_result"
    }
   ],
   "source": [
    "conf_mat_props.apply(lambda x: (x == 0).sum()).mean()"
   ]
  },
  {
   "cell_type": "markdown",
   "metadata": {},
   "source": [
    "This confusion matrix has more zero-valued entries per category than the KNN model indicating that the SVM model is doing a better job at reducing false negatives."
   ]
  },
  {
   "cell_type": "markdown",
   "metadata": {},
   "source": [
    "#### Learning Curve"
   ]
  },
  {
   "cell_type": "code",
   "execution_count": 307,
   "metadata": {},
   "outputs": [
    {
     "data": {
      "image/png": "[encoded data removed]",
      "text/plain": [
       "<Figure size 432x288 with 1 Axes>"
      ]
     },
     "metadata": {},
     "output_type": "display_data"
    }
   ],
   "source": [
    "# Plot the learning curve\n",
    "plot_learning_curve(svm_model.get_model_pipeline(), 'SVM Learning Curve', X, y, cv=CV);"
   ]
  },
  {
   "cell_type": "markdown",
   "metadata": {},
   "source": [
    "The model appears to be suffering from both low bias and high variance - even with a training score of 72%, there are too many mis-classifications for this model to be useful."
   ]
  }
 ],
 "metadata": {
  "kernelspec": {
   "display_name": "Python 3",
   "language": "python",
   "name": "python3"
  },
  "language_info": {
   "codemirror_mode": {
    "name": "ipython",
    "version": 3
   },
   "file_extension": ".py",
   "mimetype": "text/x-python",
   "name": "python",
   "nbconvert_exporter": "python",
   "pygments_lexer": "ipython3",
   "version": "3.5.5"
  }
 },
 "nbformat": 4,
 "nbformat_minor": 2
}
